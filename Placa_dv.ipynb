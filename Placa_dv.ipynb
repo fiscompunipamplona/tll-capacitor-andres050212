{
 "cells": [
  {
   "cell_type": "markdown",
   "metadata": {},
   "source": [
    "Se necesita crear un código que muestre el comportamiento de una placa aterriza en la cual se colocandos lineas de potencial a una distancia de 6cm, y hacer la gráfica correspondiente. Finalmente al tener el código base se puede varias los parámetros y mostrar de igual manera como es el comportamiento con los nuevo parámetros. "
   ]
  },
  {
   "cell_type": "code",
   "execution_count": 4,
   "metadata": {},
   "outputs": [],
   "source": [
    "from numpy import empty, zeros, max\n",
    "from pylab import imshow,gray,show,inferno,cool"
   ]
  },
  {
   "cell_type": "code",
   "execution_count": 14,
   "metadata": {},
   "outputs": [],
   "source": [
    "#constantes\n",
    "M=100 #grid squares on a side\n",
    "v=1.0  #voltage at top wall\n",
    "\n",
    "target= 1e-4 #Target accuracy\n",
    "\n",
    "#create arrays to hold potencial values,\n",
    "\n",
    "phi= zeros([M+1,M+1],float)\n",
    "phi[0,:]=0\n",
    "rho = zeros([M+1,M+1],float)\n",
    "rho[20:80,20:21] = v\n",
    "rho[20:80,80:81] = -v\n",
    "\n",
    "\n",
    "            "
   ]
  },
  {
   "cell_type": "code",
   "execution_count": 15,
   "metadata": {},
   "outputs": [
    {
     "data": {
      "image/png": "[encoded data removed]",
      "text/plain": [
       "<matplotlib.figure.Figure at 0x7f1a04de36a0>"
      ]
     },
     "metadata": {
      "needs_background": "light"
     },
     "output_type": "display_data"
    }
   ],
   "source": [
    "#main loop\n",
    "\n",
    "delta = 1.0\n",
    "omega = 0.9\n",
    "while delta>target:\n",
    "    delta = 0\n",
    "    for i in range(1,M):\n",
    "        for j in range(1,M):\n",
    "            difference=(phi[i+1,j]+phi[i-1,j]+phi[i,j+1]+phi[i,j-1])/4 - phi[i,j]+rho[i,j]\n",
    "            phi[i,j] = phi[i,j]+(1+omega)*difference\n",
    "        \n",
    "        if difference>delta: delta = difference\n",
    "                \n",
    "#make a plot\n",
    "imshow(phi)\n",
    "inferno()\n",
    "show()"
   ]
  },
  {
   "cell_type": "code",
   "execution_count": 13,
   "metadata": {},
   "outputs": [],
   "source": [
    "#La gráfica anterior describe el comportamiento de una placa aterrizada, en la cual se colocan\n",
    "#dos lineas de potencial una (+) y otra (-) a una cierta distancia entre ellas y en la cual se \n",
    "#puede variar el tamaño de las placas y su distancia."
   ]
  },
  {
   "cell_type": "code",
   "execution_count": null,
   "metadata": {},
   "outputs": [],
   "source": []
  }
 ],
 "metadata": {
  "kernelspec": {
   "display_name": "Python 3",
   "language": "python",
   "name": "python3"
  },
  "language_info": {
   "codemirror_mode": {
    "name": "ipython",
    "version": 3
   },
   "file_extension": ".py",
   "mimetype": "text/x-python",
   "name": "python",
   "nbconvert_exporter": "python",
   "pygments_lexer": "ipython3",
   "version": "3.6.9"
  }
 },
 "nbformat": 4,
 "nbformat_minor": 2
}
